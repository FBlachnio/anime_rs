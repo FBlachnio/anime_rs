{
 "cells": [
  {
   "cell_type": "code",
   "execution_count": null,
   "id": "a3cd9dd0",
   "metadata": {},
   "outputs": [],
   "source": [
    "import pandas as pd\n",
    "\n",
    "anilist_anime = pd.read_json(\"anilist_anime_data.jl\", lines=True)\n",
    "anilist_user = pd.read_json('anilist_user_data.jl', lines=True)\n",
    "\n",
    "kaggle_animes = pd.read_csv('kaggle_animes.csv') \n",
    "kaggle_ratings = pd.read_csv('kaggle_ratings.csv')"
   ]
  },
  {
   "cell_type": "code",
   "execution_count": null,
   "id": "0cf8aac9",
   "metadata": {},
   "outputs": [],
   "source": [
    "anilist_anime.to_parquet(\"anilist_anime_data.parquet\", index=False)\n",
    "anilist_user.to_parquet(\"anilist_user_data.parquet\", index=False)\n",
    "\n",
    "kaggle_animes.to_parquet(\"kaggle_animes.parquet\", index=False)\n",
    "kaggle_ratings.to_parquet(\"kaggle_ratings.parquet\", index=False)"
   ]
  }
 ],
 "metadata": {
  "language_info": {
   "name": "python"
  }
 },
 "nbformat": 4,
 "nbformat_minor": 5
}
